{
 "cells": [
  {
   "cell_type": "code",
   "execution_count": 1,
   "metadata": {},
   "outputs": [],
   "source": [
    "import sys\n",
    "import time\n",
    "import datetime\n",
    "import gspread\n",
    "from oauth2client.service_account import ServiceAccountCredentials as SAC"
   ]
  },
  {
   "cell_type": "code",
   "execution_count": 4,
   "metadata": {
    "scrolled": true
   },
   "outputs": [
    {
     "name": "stdout",
     "output_type": "stream",
     "text": [
      "將資料記錄在試算表 UploadByPython 每 60 秒\n",
      "按下 Ctrl-C中斷執行\n"
     ]
    },
    {
     "data": {
      "text/plain": [
       "{'spreadsheetId': '14BIF8qQKRjXTxbKDLTScnCao0QlX2zZvDIGWempFPng',\n",
       " 'tableRange': 'sheet1!A1:B1',\n",
       " 'updates': {'spreadsheetId': '14BIF8qQKRjXTxbKDLTScnCao0QlX2zZvDIGWempFPng',\n",
       "  'updatedCells': 2,\n",
       "  'updatedColumns': 2,\n",
       "  'updatedRange': 'sheet1!A2:B2',\n",
       "  'updatedRows': 1}}"
      ]
     },
     "execution_count": 4,
     "metadata": {},
     "output_type": "execute_result"
    }
   ],
   "source": [
    "GDriveJSON = 'PythonUpload.json'\n",
    "GSpreadSheet = 'UploadByPython'\n",
    "WaitSecond = 60\n",
    "print('將資料記錄在試算表' ,GSpreadSheet , '每' ,WaitSecond ,'秒')\n",
    "print('按下 Ctrl-C中斷執行')\n",
    "count = 1\n",
    "while True:\n",
    "    try:\n",
    "        scope =['https://spreadsheets.google.com/feeds', 'https://www.googleapis.com/auth/drive']\n",
    "        key = SAC.from_json_keyfile_name(GDriveJSON, scope)\n",
    "        gc = gspread.authorize(key)\n",
    "        worksheet = gc.open(GSpreadSheet).sheet1\n",
    "    except Exception as ex:\n",
    "        print('無法連線Google試算表', ex)\n",
    "        sys.exit(1)\n",
    "    worksheet.append_row((str(datetime.datetime.now()), count))\n",
    "    count = count+1\n",
    "    print('新增一列資料到試算表' ,GSpreadSheet)\n",
    "    time.sleep(WaitSecond)"
   ]
  },
  {
   "cell_type": "code",
   "execution_count": 5,
   "metadata": {},
   "outputs": [
    {
     "name": "stdout",
     "output_type": "stream",
     "text": [
      "新增一列資料到試算表 UploadByPython\n"
     ]
    }
   ],
   "source": [
    "GDriveJSON = 'PythonUpload.json'\n",
    "GSpreadSheet = 'UploadByPython'\n",
    "WaitSecond = 60\n",
    "print('將資料記錄在試算表' ,GSpreadSheet , '每' ,WaitSecond ,'秒')\n",
    "print('按下 Ctrl-C中斷執行')\n",
    "count = 1\n",
    "\n",
    "scope =['https://spreadsheets.google.com/feeds', 'https://www.googleapis.com/auth/drive']\n",
    "key = SAC.from_json_keyfile_name(GDriveJSON, scope)\n",
    "gc = gspread.authorize(key)\n",
    "worksheet = gc.open(GSpreadSheet).sheet1\n",
    "\n",
    "worksheet.insert_row((str(datetime.datetime.now()),count),index=2)\n",
    "count = count+1\n",
    "print('新增一列資料到試算表' ,GSpreadSheet)\n"
   ]
  },
  {
   "cell_type": "code",
   "execution_count": null,
   "metadata": {
    "collapsed": true
   },
   "outputs": [],
   "source": []
  }
 ],
 "metadata": {
  "anaconda-cloud": {},
  "kernelspec": {
   "display_name": "Python 3",
   "language": "python",
   "name": "python3"
  },
  "language_info": {
   "codemirror_mode": {
    "name": "ipython",
    "version": 3
   },
   "file_extension": ".py",
   "mimetype": "text/x-python",
   "name": "python",
   "nbconvert_exporter": "python",
   "pygments_lexer": "ipython3",
   "version": "3.6.3"
  }
 },
 "nbformat": 4,
 "nbformat_minor": 1
}
