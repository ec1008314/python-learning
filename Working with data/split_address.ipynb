{
 "cells": [
  {
   "cell_type": "code",
   "execution_count": 1,
   "metadata": {},
   "outputs": [],
   "source": [
    "import re"
   ]
  },
  {
   "cell_type": "code",
   "execution_count": 2,
   "metadata": {},
   "outputs": [],
   "source": [
    "address='台北市信義區忠孝東路5段2號'"
   ]
  },
  {
   "cell_type": "code",
   "execution_count": 3,
   "metadata": {},
   "outputs": [
    {
     "data": {
      "text/plain": [
       "['台北市', '信義區', '忠孝東路', '5段', '2號']"
      ]
     },
     "execution_count": 3,
     "metadata": {},
     "output_type": "execute_result"
    }
   ],
   "source": [
    "def split_address(a,s):\n",
    "    b=[]\n",
    "    for i in range(len(s)):\n",
    "        if i==0:\n",
    "            if str.find(a,s[i])!=-1:\n",
    "                b.append(a[:str.find(a,s[i])+1])\n",
    "        else:\n",
    "            if str.find(a,s[i])!=-1:\n",
    "                b.append(a[(str.find(a,s[i-1])+1):str.find(a,s[i])+1])\n",
    "            else:\n",
    "                b.append('')\n",
    "    return b\n",
    "s=[i for i in ['縣','市','區','街','路','段','弄','巷','號','樓'] if str.find(address,i) != -1]\n",
    "sp_address = split_address(address,s)\n",
    "sp_address"
   ]
  },
  {
   "cell_type": "code",
   "execution_count": 4,
   "metadata": {},
   "outputs": [
    {
     "name": "stdout",
     "output_type": "stream",
     "text": [
      "2號\n"
     ]
    },
    {
     "data": {
      "text/plain": [
       "\"{'city': '台北市', 'town': '信義區', 'road': '忠孝東路5段', 'lane': '', 'none': '', 'num': '2號'}\""
      ]
     },
     "execution_count": 4,
     "metadata": {},
     "output_type": "execute_result"
    }
   ],
   "source": [
    "dic_address = {'city':'','town':'','road':'','lane':'','none':'','num':''}\n",
    "for ad in sp_address:   \n",
    "    if ('縣' in ad) or ('市' in ad) and ad==sp_address[0]:\n",
    "        dic_address['city'] = ad        \n",
    "    elif ('市' in ad) or ('區' in ad):\n",
    "        dic_address['town'] = ad\n",
    "    elif ('路'in ad) or ('街' in ad) or ('段' in ad):\n",
    "        dic_address['road'] = dic_address['road'] + ad     \n",
    "    elif '巷' in ad:\n",
    "        dic_address['lane'] = ad\n",
    "    elif '弄' in ad:\n",
    "        dic_address['none'] = ad\n",
    "    elif '號' in ad:\n",
    "        dic_address['num'] = ad\n",
    "        print(ad)\n",
    "    \n",
    "str(dic_address)"
   ]
  }
 ],
 "metadata": {
  "kernelspec": {
   "display_name": "Python 3",
   "language": "python",
   "name": "python3"
  },
  "language_info": {
   "codemirror_mode": {
    "name": "ipython",
    "version": 3
   },
   "file_extension": ".py",
   "mimetype": "text/x-python",
   "name": "python",
   "nbconvert_exporter": "python",
   "pygments_lexer": "ipython3",
   "version": "3.6.3"
  }
 },
 "nbformat": 4,
 "nbformat_minor": 2
}
