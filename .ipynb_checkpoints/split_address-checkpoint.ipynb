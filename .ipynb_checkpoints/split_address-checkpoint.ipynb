{
 "cells": [
  {
   "cell_type": "code",
   "execution_count": 1,
   "metadata": {},
   "outputs": [],
   "source": [
    "import re"
   ]
  },
  {
   "cell_type": "code",
   "execution_count": 48,
   "metadata": {},
   "outputs": [],
   "source": [
    "address='台北市信義區忠孝東路5段2號'"
   ]
  },
  {
   "cell_type": "code",
   "execution_count": 79,
   "metadata": {},
   "outputs": [
    {
     "data": {
      "text/plain": [
       "['台北市', '信義區', '忠孝東路', '2號']"
      ]
     },
     "execution_count": 79,
     "metadata": {},
     "output_type": "execute_result"
    }
   ],
   "source": [
    "def split_address(a,s):\n",
    "    b=[]\n",
    "    for i in range(len(s)):\n",
    "        if i==0:\n",
    "            if str.find(a,s[i])!=-1:\n",
    "                b.append(a[:str.find(a,s[i])+1])\n",
    "        else:\n",
    "            if str.find(a,s[i])!=-1:\n",
    "                b.append(a[(str.find(a,s[i-1])+1):str.find(a,s[i])+1])\n",
    "            else:\n",
    "                b.append('')\n",
    "    return b\n",
    "s=[i for i in ['縣','市','區','街','路' ,'段','弄','巷','號','樓'] if str.find(address,i) != -1]\n",
    "sp_address = split_address(address,s)\n",
    "sp_address"
   ]
  },
  {
   "cell_type": "code",
   "execution_count": 95,
   "metadata": {},
   "outputs": [
    {
     "data": {
      "text/plain": [
       "\"{'city': '台北市', 'town': '', 'road': '忠孝東路', 'lane': '', 'none': '', 'num': ''}\""
      ]
     },
     "execution_count": 95,
     "metadata": {},
     "output_type": "execute_result"
    }
   ],
   "source": [
    "dic_address = {'city':'','town':'','road':'','lane':'','none':'','num':''}\n",
    "for ad in sp_address:   \n",
    "    if ('縣' and '市') in ad:\n",
    "        dic_address['city'] = ad\n",
    "    elif ('市' and '區') in ad:\n",
    "        dic_address['town'] = ad\n",
    "    elif '路'in ad:\n",
    "        dic_address['road'] = ad\n",
    "    \n",
    "str(dic_address)"
   ]
  },
  {
   "cell_type": "code",
   "execution_count": 70,
   "metadata": {},
   "outputs": [
    {
     "data": {
      "text/plain": [
       "'台北市'"
      ]
     },
     "execution_count": 70,
     "metadata": {},
     "output_type": "execute_result"
    }
   ],
   "source": [
    "sp_address[0]"
   ]
  },
  {
   "cell_type": "code",
   "execution_count": 24,
   "metadata": {},
   "outputs": [],
   "source": [
    "dic_address = {'city':'','town':'','road':'','lane':'','none':'','num':''}"
   ]
  },
  {
   "cell_type": "code",
   "execution_count": 31,
   "metadata": {},
   "outputs": [
    {
     "data": {
      "text/plain": [
       "'a'"
      ]
     },
     "execution_count": 31,
     "metadata": {},
     "output_type": "execute_result"
    }
   ],
   "source": [
    "dic_address['city']"
   ]
  },
  {
   "cell_type": "code",
   "execution_count": 75,
   "metadata": {},
   "outputs": [
    {
     "data": {
      "text/plain": [
       "False"
      ]
     },
     "execution_count": 75,
     "metadata": {},
     "output_type": "execute_result"
    }
   ],
   "source": [
    "sp_address[0] in ('市')"
   ]
  },
  {
   "cell_type": "code",
   "execution_count": null,
   "metadata": {},
   "outputs": [],
   "source": []
  }
 ],
 "metadata": {
  "kernelspec": {
   "display_name": "Python 3",
   "language": "python",
   "name": "python3"
  },
  "language_info": {
   "codemirror_mode": {
    "name": "ipython",
    "version": 3
   },
   "file_extension": ".py",
   "mimetype": "text/x-python",
   "name": "python",
   "nbconvert_exporter": "python",
   "pygments_lexer": "ipython3",
   "version": "3.6.3"
  }
 },
 "nbformat": 4,
 "nbformat_minor": 2
}
