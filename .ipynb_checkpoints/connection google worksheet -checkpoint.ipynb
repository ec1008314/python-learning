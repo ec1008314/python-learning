{
 "cells": [
  {
   "cell_type": "code",
   "execution_count": 1,
   "metadata": {
    "collapsed": true
   },
   "outputs": [],
   "source": [
    "import sys\n",
    "import time\n",
    "import datetime\n",
    "import gspread\n",
    "from oauth2client.service_account import ServiceAccountCredentials as SAC"
   ]
  },
  {
   "cell_type": "code",
   "execution_count": 4,
   "metadata": {
    "collapsed": false,
    "scrolled": true
   },
   "outputs": [
    {
     "name": "stdout",
     "output_type": "stream",
     "text": [
      "將資料記錄在試算表 UploadByPython 每 60 秒\n",
      "按下 Ctrl-C中斷執行\n"
     ]
    },
    {
     "data": {
      "text/plain": [
       "{'spreadsheetId': '14BIF8qQKRjXTxbKDLTScnCao0QlX2zZvDIGWempFPng',\n",
       " 'tableRange': 'sheet1!A1:B1',\n",
       " 'updates': {'spreadsheetId': '14BIF8qQKRjXTxbKDLTScnCao0QlX2zZvDIGWempFPng',\n",
       "  'updatedCells': 2,\n",
       "  'updatedColumns': 2,\n",
       "  'updatedRange': 'sheet1!A2:B2',\n",
       "  'updatedRows': 1}}"
      ]
     },
     "execution_count": 4,
     "metadata": {},
     "output_type": "execute_result"
    }
   ],
   "source": [
    "GDriveJSON = 'PythonUpload.json'\n",
    "GSpreadSheet = 'UploadByPython'\n",
    "WaitSecond = 60\n",
    "print('將資料記錄在試算表' ,GSpreadSheet , '每' ,WaitSecond ,'秒')\n",
    "print('按下 Ctrl-C中斷執行')\n",
    "count = 1\n",
    "while True:\n",
    "    try:\n",
    "        scope =['https://spreadsheets.google.com/feeds', 'https://www.googleapis.com/auth/drive']\n",
    "        key = SAC.from_json_keyfile_name(GDriveJSON, scope)\n",
    "        gc = gspread.authorize(key)\n",
    "        worksheet = gc.open(GSpreadSheet).sheet1\n",
    "    except Exception as ex:\n",
    "        print('無法連線Google試算表', ex)\n",
    "        sys.exit(1)\n",
    "    worksheet.append_row((str(datetime.datetime.now()), count))\n",
    "    count = count+1\n",
    "    print('新增一列資料到試算表' ,GSpreadSheet)\n",
    "    time.sleep(WaitSecond)"
   ]
  },
  {
   "cell_type": "code",
   "execution_count": 2,
   "metadata": {
    "collapsed": false
   },
   "outputs": [
    {
     "name": "stdout",
     "output_type": "stream",
     "text": [
      "將資料記錄在試算表 UploadByPython 每 60 秒\n",
      "按下 Ctrl-C中斷執行\n"
     ]
    },
    {
     "ename": "FileNotFoundError",
     "evalue": "[Errno 2] No such file or directory: 'PythonUpload.json'",
     "output_type": "error",
     "traceback": [
      "\u001b[1;31m---------------------------------------------------------------------------\u001b[0m",
      "\u001b[1;31mFileNotFoundError\u001b[0m                         Traceback (most recent call last)",
      "\u001b[1;32m<ipython-input-2-27694c47218a>\u001b[0m in \u001b[0;36m<module>\u001b[1;34m()\u001b[0m\n\u001b[0;32m      7\u001b[0m \u001b[1;33m\u001b[0m\u001b[0m\n\u001b[0;32m      8\u001b[0m \u001b[0mscope\u001b[0m \u001b[1;33m=\u001b[0m\u001b[1;33m[\u001b[0m\u001b[1;34m'https://spreadsheets.google.com/feeds'\u001b[0m\u001b[1;33m,\u001b[0m \u001b[1;34m'https://www.googleapis.com/auth/drive'\u001b[0m\u001b[1;33m]\u001b[0m\u001b[1;33m\u001b[0m\u001b[0m\n\u001b[1;32m----> 9\u001b[1;33m \u001b[0mkey\u001b[0m \u001b[1;33m=\u001b[0m \u001b[0mSAC\u001b[0m\u001b[1;33m.\u001b[0m\u001b[0mfrom_json_keyfile_name\u001b[0m\u001b[1;33m(\u001b[0m\u001b[0mGDriveJSON\u001b[0m\u001b[1;33m,\u001b[0m \u001b[0mscope\u001b[0m\u001b[1;33m)\u001b[0m\u001b[1;33m\u001b[0m\u001b[0m\n\u001b[0m\u001b[0;32m     10\u001b[0m \u001b[0mgc\u001b[0m \u001b[1;33m=\u001b[0m \u001b[0mgspread\u001b[0m\u001b[1;33m.\u001b[0m\u001b[0mauthorize\u001b[0m\u001b[1;33m(\u001b[0m\u001b[0mkey\u001b[0m\u001b[1;33m)\u001b[0m\u001b[1;33m\u001b[0m\u001b[0m\n\u001b[0;32m     11\u001b[0m \u001b[0mworksheet\u001b[0m \u001b[1;33m=\u001b[0m \u001b[0mgc\u001b[0m\u001b[1;33m.\u001b[0m\u001b[0mopen\u001b[0m\u001b[1;33m(\u001b[0m\u001b[0mGSpreadSheet\u001b[0m\u001b[1;33m)\u001b[0m\u001b[1;33m.\u001b[0m\u001b[0msheet1\u001b[0m\u001b[1;33m\u001b[0m\u001b[0m\n",
      "\u001b[1;32mC:\\Users\\Chueh\\Anaconda3\\lib\\site-packages\\oauth2client\\service_account.py\u001b[0m in \u001b[0;36mfrom_json_keyfile_name\u001b[1;34m(cls, filename, scopes, token_uri, revoke_uri)\u001b[0m\n\u001b[0;32m    217\u001b[0m                 \u001b[0mthe\u001b[0m \u001b[0mkeyfile\u001b[0m\u001b[1;33m.\u001b[0m\u001b[1;33m\u001b[0m\u001b[0m\n\u001b[0;32m    218\u001b[0m         \"\"\"\n\u001b[1;32m--> 219\u001b[1;33m         \u001b[1;32mwith\u001b[0m \u001b[0mopen\u001b[0m\u001b[1;33m(\u001b[0m\u001b[0mfilename\u001b[0m\u001b[1;33m,\u001b[0m \u001b[1;34m'r'\u001b[0m\u001b[1;33m)\u001b[0m \u001b[1;32mas\u001b[0m \u001b[0mfile_obj\u001b[0m\u001b[1;33m:\u001b[0m\u001b[1;33m\u001b[0m\u001b[0m\n\u001b[0m\u001b[0;32m    220\u001b[0m             \u001b[0mclient_credentials\u001b[0m \u001b[1;33m=\u001b[0m \u001b[0mjson\u001b[0m\u001b[1;33m.\u001b[0m\u001b[0mload\u001b[0m\u001b[1;33m(\u001b[0m\u001b[0mfile_obj\u001b[0m\u001b[1;33m)\u001b[0m\u001b[1;33m\u001b[0m\u001b[0m\n\u001b[0;32m    221\u001b[0m         return cls._from_parsed_json_keyfile(client_credentials, scopes,\n",
      "\u001b[1;31mFileNotFoundError\u001b[0m: [Errno 2] No such file or directory: 'PythonUpload.json'"
     ]
    }
   ],
   "source": [
    "GDriveJSON = 'PythonUpload.json'\n",
    "GSpreadSheet = 'UploadByPython'\n",
    "WaitSecond = 60\n",
    "print('將資料記錄在試算表' ,GSpreadSheet , '每' ,WaitSecond ,'秒')\n",
    "print('按下 Ctrl-C中斷執行')\n",
    "count = 1\n",
    "\n",
    "scope =['https://spreadsheets.google.com/feeds', 'https://www.googleapis.com/auth/drive']\n",
    "key = SAC.from_json_keyfile_name(GDriveJSON, scope)\n",
    "gc = gspread.authorize(key)\n",
    "worksheet = gc.open(GSpreadSheet).sheet1\n",
    "\n",
    "worksheet.insert_row((str(datetime.datetime.now()),count),index=2)\n",
    "count = count+1\n",
    "print('新增一列資料到試算表' ,GSpreadSheet)\n"
   ]
  },
  {
   "cell_type": "code",
   "execution_count": null,
   "metadata": {
    "collapsed": true
   },
   "outputs": [],
   "source": []
  }
 ],
 "metadata": {
  "anaconda-cloud": {},
  "kernelspec": {
   "display_name": "Python [Root]",
   "language": "python",
   "name": "Python [Root]"
  },
  "language_info": {
   "codemirror_mode": {
    "name": "ipython",
    "version": 3
   },
   "file_extension": ".py",
   "mimetype": "text/x-python",
   "name": "python",
   "nbconvert_exporter": "python",
   "pygments_lexer": "ipython3",
   "version": "3.5.1"
  }
 },
 "nbformat": 4,
 "nbformat_minor": 1
}
