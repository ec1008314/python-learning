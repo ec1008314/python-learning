{
 "cells": [
  {
   "cell_type": "code",
   "execution_count": 31,
   "metadata": {},
   "outputs": [],
   "source": [
    "import sklearn\n",
    "from sklearn import metrics, model_selection, datasets\n",
    "import tensorflow as tf\n",
    "#from tensorflow.contrib import learn"
   ]
  },
  {
   "cell_type": "code",
   "execution_count": 30,
   "metadata": {
    "scrolled": true
   },
   "outputs": [],
   "source": [
    "iris = datasets.load_iris()\n",
    "x_train, x_test, y_train, y_test = model_selection.train_test_split(\n",
    "    iris.data, iris.target, test_size = 0.2, random_state = 42)\n",
    "\n",
    "#build 3 layer DNN with 10, 20, 10 units respectiviely.\n",
    "classifier = learn.DNNClassifier(hidden_units = [10,20,10], n_classes = 3)\n",
    "#Fit and predict\n",
    "classifier.fit(x_train, y_train,steps= 200)\n",
    "score = metrics.accuracy_score(y_test,classifier.predict(x_test))\n",
    "print('Accuracy:{0:f}'.format(score))"
   ]
  },
  {
   "cell_type": "code",
   "execution_count": null,
   "metadata": {
    "collapsed": true
   },
   "outputs": [],
   "source": []
  }
 ],
 "metadata": {
  "kernelspec": {
   "display_name": "Python 3",
   "language": "python",
   "name": "python3"
  }
 },
 "nbformat": 4,
 "nbformat_minor": 2
}
