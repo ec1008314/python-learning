{
 "cells": [
  {
   "cell_type": "code",
   "execution_count": 8,
   "metadata": {
    "collapsed": true
   },
   "outputs": [],
   "source": [
    "import requests\n",
    "from io import StringIO\n",
    "import pandas as pd\n",
    "import numpy as np\n",
    "import datetime\n",
    "import time\n",
    "from pandas import Series, DataFrame"
   ]
  },
  {
   "cell_type": "code",
   "execution_count": 2,
   "metadata": {
    "collapsed": true
   },
   "outputs": [],
   "source": [
    "today=datetime.datetime.now().year*10000+datetime.datetime.now().month*100+datetime.datetime.now().day\n"
   ]
  },
  {
   "cell_type": "code",
   "execution_count": 78,
   "metadata": {
    "collapsed": false
   },
   "outputs": [
    {
     "name": "stdout",
     "output_type": "stream",
     "text": [
      "0:00:00.001000\n"
     ]
    }
   ],
   "source": [
    "#url='http://www.twse.com.tw/exchangeReport/MI_INDEX?response=html&date=20180426&type=ALL'\n",
    "#a = pd.io.html.read_html(url)\n",
    "import sys\n",
    "import time\n",
    "import datetime\n",
    "import gspread\n",
    "from oauth2client.service_account import ServiceAccountCredentials as SAC\n",
    "t= datetime.datetime.now()\n",
    "def upload_data_to_googledrive(stock_data):\n",
    "    GDriveJSON = 'PythonUpload.json'\n",
    "    GSpreadSheet = 'stock'\n",
    "    count=0\n",
    "    try:\n",
    "        scope =['https://spreadsheets.google.com/feeds', 'https://www.googleapis.com/auth/drive']\n",
    "        key = SAC.from_json_keyfile_name(GDriveJSON, scope)\n",
    "        gc = gspread.authorize(key)\n",
    "        worksheet = gc.open(GSpreadSheet).sheet1\n",
    "    except Exception as ex:\n",
    "        print('無法連線Google試算表', ex)\n",
    "        sys.exit(1)\n",
    "    else:\n",
    "        worksheet.insert_row(['日期', '成交股數', '成交金額', '開盤價', '最高價', '最低價', '收盤價', '漲跌價差', '成交筆數'],index=1)\n",
    "        for i in stock_data.index:\n",
    "            worksheet.insert_row((stock_data['日期'][i],float(stock_data['成交股數'][i]),float(stock_data['成交金額'][i]),\n",
    "                                  float(stock_data['開盤價'][i]),float(stock_data['最高價'][i]),\n",
    "                                  float(stock_data['最低價'][i]),float(stock_data['收盤價'][i]),\n",
    "                                  float(stock_data['漲跌價差'][i]),float(stock_data['成交筆數'][i])),index=2)\n",
    "        count+=1\n",
    "        \n",
    "    return print('upload success',count)\n",
    "print(str(datetime.datetime.now()-t))"
   ]
  },
  {
   "cell_type": "code",
   "execution_count": 4,
   "metadata": {
    "collapsed": true
   },
   "outputs": [],
   "source": [
    "def convert_time(x):   \n",
    "    return x.year*10000+x.month*100+x.day \n",
    "def stock_historydata(stock_number = 2330,start_date =None,\n",
    "                      last_date = datetime.datetime.now().year*10000 + datetime.datetime.now().month*100 + datetime.datetime.now().day):          \n",
    "    if start_date != None:\n",
    "        vfunc = np.vectorize(convert_time)\n",
    "        date_m = vfunc(pd.date_range(start = str(start_date) ,end = str(last_date), freq='MS').date)\n",
    "        for i, m in enumerate(date_m):\n",
    "            time.sleep(5)\n",
    "            url = 'http://www.twse.com.tw/exchangeReport/STOCK_DAY?response=html&date='+str(m)+'&stockNo='+str(stock_number)\n",
    "            print(m)\n",
    "            try:\n",
    "                pd.io.html.read_html(url)\n",
    "            except:\n",
    "                print('無此資料')\n",
    "            else:\n",
    "                a = pd.io.html.read_html(url)[0]\n",
    "                a.columns = ['日期', '成交股數', '成交金額', '開盤價', '最高價', '最低價', '收盤價', '漲跌價差','成交筆數']\n",
    "                \n",
    "                if i==0:\n",
    "                    x = a\n",
    "                else:\n",
    "                    x = x.append(a,ignore_index=True)\n",
    "\n",
    "    else:\n",
    "        \n",
    "        url = 'http://www.twse.com.tw/exchangeReport/STOCK_DAY?response=html&date=' + str(last_date) + '&stockNo=' + str(stock_number)\n",
    "        \n",
    "        try:\n",
    "            pd.io.html.read_html(url)\n",
    "        except:\n",
    "            print('無此資料')\n",
    "        else:\n",
    "            x = pd.io.html.read_html(url)[0]\n",
    "            x.columns = ['日期', '成交股數', '成交金額', '開盤價', '最高價', '最低價', '收盤價', '漲跌價差','成交筆數']\n",
    "\n",
    "    return x"
   ]
  },
  {
   "cell_type": "code",
   "execution_count": 10,
   "metadata": {
    "collapsed": false,
    "scrolled": true
   },
   "outputs": [
    {
     "name": "stdout",
     "output_type": "stream",
     "text": [
      "20180401\n",
      "20180501\n"
     ]
    },
    {
     "data": {
      "text/plain": [
       "Index(['日期', '成交股數', '成交金額', '開盤價', '最高價', '最低價', '收盤價', '漲跌價差', '成交筆數'], dtype='object')"
      ]
     },
     "execution_count": 10,
     "metadata": {},
     "output_type": "execute_result"
    }
   ],
   "source": [
    "stock_data=stock_historydata(2317,20180401)\n",
    "stock_data.columns "
   ]
  },
  {
   "cell_type": "code",
   "execution_count": 79,
   "metadata": {
    "collapsed": false
   },
   "outputs": [
    {
     "name": "stdout",
     "output_type": "stream",
     "text": [
      "upload success 1\n",
      "upload success\n"
     ]
    }
   ],
   "source": [
    "upload_data_to_googledrive(stock_data)"
   ]
  },
  {
   "cell_type": "code",
   "execution_count": 12,
   "metadata": {
    "collapsed": false,
    "scrolled": false
   },
   "outputs": [
    {
     "data": {
      "text/html": [
       "<div>\n",
       "<table border=\"1\" class=\"dataframe\">\n",
       "  <thead>\n",
       "    <tr style=\"text-align: right;\">\n",
       "      <th></th>\n",
       "      <th>日期</th>\n",
       "      <th>成交股數</th>\n",
       "      <th>成交金額</th>\n",
       "      <th>開盤價</th>\n",
       "      <th>最高價</th>\n",
       "      <th>最低價</th>\n",
       "      <th>收盤價</th>\n",
       "      <th>漲跌價差</th>\n",
       "      <th>成交筆數</th>\n",
       "    </tr>\n",
       "  </thead>\n",
       "  <tbody>\n",
       "    <tr>\n",
       "      <th>0</th>\n",
       "      <td>107/04/02</td>\n",
       "      <td>54717977</td>\n",
       "      <td>4835468263</td>\n",
       "      <td>88.5</td>\n",
       "      <td>89.4</td>\n",
       "      <td>87.5</td>\n",
       "      <td>88.1</td>\n",
       "      <td>-0.4</td>\n",
       "      <td>28316</td>\n",
       "    </tr>\n",
       "    <tr>\n",
       "      <th>1</th>\n",
       "      <td>107/04/03</td>\n",
       "      <td>59828974</td>\n",
       "      <td>5215608752</td>\n",
       "      <td>87.1</td>\n",
       "      <td>87.5</td>\n",
       "      <td>86.9</td>\n",
       "      <td>87.2</td>\n",
       "      <td>-0.9</td>\n",
       "      <td>28728</td>\n",
       "    </tr>\n",
       "    <tr>\n",
       "      <th>2</th>\n",
       "      <td>107/04/09</td>\n",
       "      <td>57130701</td>\n",
       "      <td>4977483453</td>\n",
       "      <td>86.6</td>\n",
       "      <td>88.0</td>\n",
       "      <td>86.5</td>\n",
       "      <td>87.4</td>\n",
       "      <td>0.2</td>\n",
       "      <td>22915</td>\n",
       "    </tr>\n",
       "    <tr>\n",
       "      <th>3</th>\n",
       "      <td>107/04/10</td>\n",
       "      <td>35830562</td>\n",
       "      <td>3121816992</td>\n",
       "      <td>86.8</td>\n",
       "      <td>87.5</td>\n",
       "      <td>86.8</td>\n",
       "      <td>87.0</td>\n",
       "      <td>-0.4</td>\n",
       "      <td>16517</td>\n",
       "    </tr>\n",
       "    <tr>\n",
       "      <th>4</th>\n",
       "      <td>107/04/11</td>\n",
       "      <td>40026593</td>\n",
       "      <td>3516992083</td>\n",
       "      <td>87.7</td>\n",
       "      <td>88.9</td>\n",
       "      <td>87.3</td>\n",
       "      <td>87.3</td>\n",
       "      <td>0.3</td>\n",
       "      <td>18662</td>\n",
       "    </tr>\n",
       "  </tbody>\n",
       "</table>\n",
       "</div>"
      ],
      "text/plain": [
       "          日期      成交股數        成交金額   開盤價   最高價   最低價   收盤價  漲跌價差   成交筆數\n",
       "0  107/04/02  54717977  4835468263  88.5  89.4  87.5  88.1  -0.4  28316\n",
       "1  107/04/03  59828974  5215608752  87.1  87.5  86.9  87.2  -0.9  28728\n",
       "2  107/04/09  57130701  4977483453  86.6  88.0  86.5  87.4   0.2  22915\n",
       "3  107/04/10  35830562  3121816992  86.8  87.5  86.8  87.0  -0.4  16517\n",
       "4  107/04/11  40026593  3516992083  87.7  88.9  87.3  87.3   0.3  18662"
      ]
     },
     "execution_count": 12,
     "metadata": {},
     "output_type": "execute_result"
    }
   ],
   "source": [
    "#pd.date_range(start = str(20180201) ,end = str(20180421), freq='MS',MonthBegin=True).date\n",
    "stock_data.head()"
   ]
  },
  {
   "cell_type": "code",
   "execution_count": 37,
   "metadata": {
    "collapsed": false
   },
   "outputs": [
    {
     "data": {
      "text/plain": [
       "'107/04/02'"
      ]
     },
     "execution_count": 37,
     "metadata": {},
     "output_type": "execute_result"
    }
   ],
   "source": [
    "stock_data['日期'][0]"
   ]
  },
  {
   "cell_type": "code",
   "execution_count": 16,
   "metadata": {
    "collapsed": true
   },
   "outputs": [],
   "source": []
  },
  {
   "cell_type": "code",
   "execution_count": 76,
   "metadata": {
    "collapsed": false
   },
   "outputs": [
    {
     "name": "stdout",
     "output_type": "stream",
     "text": [
      "upload success 2\n",
      "0:00:28.612925\n"
     ]
    }
   ],
   "source": [
    "import sys\n",
    "import time\n",
    "import datetime\n",
    "import gspread\n",
    "from oauth2client.service_account import ServiceAccountCredentials as SAC\n",
    "t= datetime.datetime.now()\n",
    "def upload_data_to_googledrive(stock_data):\n",
    "    GDriveJSON = 'PythonUpload.json'\n",
    "    GSpreadSheet = 'stock'\n",
    "    count=0\n",
    "    try:\n",
    "        scope =['https://spreadsheets.google.com/feeds', 'https://www.googleapis.com/auth/drive']\n",
    "        key = SAC.from_json_keyfile_name(GDriveJSON, scope)\n",
    "        gc = gspread.authorize(key)\n",
    "        worksheet = gc.open(GSpreadSheet).sheet1\n",
    "    except Exception as ex:\n",
    "        print('無法連線Google試算表', ex)\n",
    "        sys.exit(1)\n",
    "    else:\n",
    "        worksheet.insert_row(['日期', '成交股數', '成交金額', '開盤價', '最高價', '最低價', '收盤價', '漲跌價差', '成交筆數'],index=1)\n",
    "        for i in stock_data.index:\n",
    "            worksheet.insert_row((stock_data['日期'][i],float(stock_data['成交股數'][i]),float(stock_data['成交金額'][i]),\n",
    "                                  float(stock_data['開盤價'][i]),float(stock_data['最高價'][i]),\n",
    "                                  float(stock_data['最低價'][i]),float(stock_data['收盤價'][i]),\n",
    "                                  float(stock_data['漲跌價差'][i]),float(stock_data['成交筆數'][i])),index=2)\n",
    "        count+=1\n",
    "        print('upload success',count)\n",
    "return print('upload success')\n",
    "print(str(datetime.datetime.now()-t))\n"
   ]
  },
  {
   "cell_type": "code",
   "execution_count": null,
   "metadata": {
    "collapsed": true
   },
   "outputs": [],
   "source": []
  },
  {
   "cell_type": "code",
   "execution_count": 13,
   "metadata": {
    "collapsed": true
   },
   "outputs": [],
   "source": [
    "stock_data_df = stock_data.copy()\n",
    "def replace_year(x):\n",
    "    return x.replace(x[0:3],str(int(x[0:3])+1911))\n",
    "stock_data_df['日期'] = stock_data_df['日期'].apply(replace_year)"
   ]
  },
  {
   "cell_type": "code",
   "execution_count": 14,
   "metadata": {
    "collapsed": true
   },
   "outputs": [],
   "source": [
    "stock_data_df.index=stock_data_df['日期']\n",
    "stock_data_df.drop(['日期','成交金額','漲跌價差','成交筆數'],axis=1,inplace=True)\n"
   ]
  },
  {
   "cell_type": "code",
   "execution_count": 15,
   "metadata": {
    "collapsed": false,
    "scrolled": true
   },
   "outputs": [
    {
     "data": {
      "text/html": [
       "<div>\n",
       "<style scoped>\n",
       "    .dataframe tbody tr th:only-of-type {\n",
       "        vertical-align: middle;\n",
       "    }\n",
       "\n",
       "    .dataframe tbody tr th {\n",
       "        vertical-align: top;\n",
       "    }\n",
       "\n",
       "    .dataframe thead th {\n",
       "        text-align: right;\n",
       "    }\n",
       "</style>\n",
       "<table border=\"1\" class=\"dataframe\">\n",
       "  <thead>\n",
       "    <tr style=\"text-align: right;\">\n",
       "      <th></th>\n",
       "      <th>volume</th>\n",
       "      <th>open</th>\n",
       "      <th>high</th>\n",
       "      <th>low</th>\n",
       "      <th>close</th>\n",
       "    </tr>\n",
       "    <tr>\n",
       "      <th>日期</th>\n",
       "      <th></th>\n",
       "      <th></th>\n",
       "      <th></th>\n",
       "      <th></th>\n",
       "      <th></th>\n",
       "    </tr>\n",
       "  </thead>\n",
       "  <tbody>\n",
       "    <tr>\n",
       "      <th>2018/01/02</th>\n",
       "      <td>28602316</td>\n",
       "      <td>95.4</td>\n",
       "      <td>95.7</td>\n",
       "      <td>94.3</td>\n",
       "      <td>95.0</td>\n",
       "    </tr>\n",
       "    <tr>\n",
       "      <th>2018/01/03</th>\n",
       "      <td>58507086</td>\n",
       "      <td>95.0</td>\n",
       "      <td>95.3</td>\n",
       "      <td>94.0</td>\n",
       "      <td>94.0</td>\n",
       "    </tr>\n",
       "    <tr>\n",
       "      <th>2018/01/04</th>\n",
       "      <td>53756400</td>\n",
       "      <td>93.6</td>\n",
       "      <td>93.9</td>\n",
       "      <td>92.5</td>\n",
       "      <td>92.6</td>\n",
       "    </tr>\n",
       "    <tr>\n",
       "      <th>2018/01/05</th>\n",
       "      <td>59252732</td>\n",
       "      <td>92.3</td>\n",
       "      <td>93.0</td>\n",
       "      <td>91.6</td>\n",
       "      <td>93.0</td>\n",
       "    </tr>\n",
       "    <tr>\n",
       "      <th>2018/01/08</th>\n",
       "      <td>50081699</td>\n",
       "      <td>92.3</td>\n",
       "      <td>92.6</td>\n",
       "      <td>91.7</td>\n",
       "      <td>91.8</td>\n",
       "    </tr>\n",
       "  </tbody>\n",
       "</table>\n",
       "</div>"
      ],
      "text/plain": [
       "              volume  open  high   low  close\n",
       "日期                                           \n",
       "2018/01/02  28602316  95.4  95.7  94.3   95.0\n",
       "2018/01/03  58507086  95.0  95.3  94.0   94.0\n",
       "2018/01/04  53756400  93.6  93.9  92.5   92.6\n",
       "2018/01/05  59252732  92.3  93.0  91.6   93.0\n",
       "2018/01/08  50081699  92.3  92.6  91.7   91.8"
      ]
     },
     "execution_count": 15,
     "metadata": {},
     "output_type": "execute_result"
    }
   ],
   "source": [
    "stock_data_df.columns=['volume','open','high','low','close']\n",
    "stock_data_df.head()"
   ]
  },
  {
   "cell_type": "code",
   "execution_count": 16,
   "metadata": {
    "collapsed": false
   },
   "outputs": [
    {
     "name": "stderr",
     "output_type": "stream",
     "text": [
      "/Library/Frameworks/Python.framework/Versions/3.6/lib/python3.6/site-packages/sklearn/utils/validation.py:475: DataConversionWarning: Data with input dtype int64 was converted to float64 by MinMaxScaler.\n",
      "  warnings.warn(msg, DataConversionWarning)\n"
     ]
    }
   ],
   "source": [
    "#資料正規化\n",
    "from sklearn import preprocessing\n",
    "\n",
    "def normalize(df):\n",
    "    newdf= df.copy()\n",
    "    min_max_scaler = preprocessing.MinMaxScaler()\n",
    "    \n",
    "    newdf['open'] = min_max_scaler.fit_transform(df.open.values.reshape(-1,1))\n",
    "    newdf['low'] = min_max_scaler.fit_transform(df.low.values.reshape(-1,1))\n",
    "    newdf['high'] = min_max_scaler.fit_transform(df.high.values.reshape(-1,1))\n",
    "    newdf['volume'] = min_max_scaler.fit_transform(df.volume.values.reshape(-1,1))\n",
    "    newdf['close'] = min_max_scaler.fit_transform(df.close.values.reshape(-1,1))\n",
    "    \n",
    "    return newdf\n",
    "stock_data_norm= normalize(stock_data_df)"
   ]
  },
  {
   "cell_type": "code",
   "execution_count": 17,
   "metadata": {
    "collapsed": false
   },
   "outputs": [
    {
     "data": {
      "text/html": [
       "<div>\n",
       "<style scoped>\n",
       "    .dataframe tbody tr th:only-of-type {\n",
       "        vertical-align: middle;\n",
       "    }\n",
       "\n",
       "    .dataframe tbody tr th {\n",
       "        vertical-align: top;\n",
       "    }\n",
       "\n",
       "    .dataframe thead th {\n",
       "        text-align: right;\n",
       "    }\n",
       "</style>\n",
       "<table border=\"1\" class=\"dataframe\">\n",
       "  <thead>\n",
       "    <tr style=\"text-align: right;\">\n",
       "      <th></th>\n",
       "      <th>volume</th>\n",
       "      <th>open</th>\n",
       "      <th>high</th>\n",
       "      <th>low</th>\n",
       "      <th>close</th>\n",
       "    </tr>\n",
       "    <tr>\n",
       "      <th>日期</th>\n",
       "      <th></th>\n",
       "      <th></th>\n",
       "      <th></th>\n",
       "      <th></th>\n",
       "      <th></th>\n",
       "    </tr>\n",
       "  </thead>\n",
       "  <tbody>\n",
       "    <tr>\n",
       "      <th>2018/01/02</th>\n",
       "      <td>0.045730</td>\n",
       "      <td>0.895954</td>\n",
       "      <td>0.898810</td>\n",
       "      <td>0.891566</td>\n",
       "      <td>0.884848</td>\n",
       "    </tr>\n",
       "    <tr>\n",
       "      <th>2018/01/03</th>\n",
       "      <td>0.293485</td>\n",
       "      <td>0.872832</td>\n",
       "      <td>0.875000</td>\n",
       "      <td>0.873494</td>\n",
       "      <td>0.824242</td>\n",
       "    </tr>\n",
       "    <tr>\n",
       "      <th>2018/01/04</th>\n",
       "      <td>0.254126</td>\n",
       "      <td>0.791908</td>\n",
       "      <td>0.791667</td>\n",
       "      <td>0.783133</td>\n",
       "      <td>0.739394</td>\n",
       "    </tr>\n",
       "    <tr>\n",
       "      <th>2018/01/05</th>\n",
       "      <td>0.299662</td>\n",
       "      <td>0.716763</td>\n",
       "      <td>0.738095</td>\n",
       "      <td>0.728916</td>\n",
       "      <td>0.763636</td>\n",
       "    </tr>\n",
       "    <tr>\n",
       "      <th>2018/01/08</th>\n",
       "      <td>0.223682</td>\n",
       "      <td>0.716763</td>\n",
       "      <td>0.714286</td>\n",
       "      <td>0.734940</td>\n",
       "      <td>0.690909</td>\n",
       "    </tr>\n",
       "  </tbody>\n",
       "</table>\n",
       "</div>"
      ],
      "text/plain": [
       "              volume      open      high       low     close\n",
       "日期                                                          \n",
       "2018/01/02  0.045730  0.895954  0.898810  0.891566  0.884848\n",
       "2018/01/03  0.293485  0.872832  0.875000  0.873494  0.824242\n",
       "2018/01/04  0.254126  0.791908  0.791667  0.783133  0.739394\n",
       "2018/01/05  0.299662  0.716763  0.738095  0.728916  0.763636\n",
       "2018/01/08  0.223682  0.716763  0.714286  0.734940  0.690909"
      ]
     },
     "execution_count": 17,
     "metadata": {},
     "output_type": "execute_result"
    }
   ],
   "source": [
    "stock_data_norm.head()"
   ]
  },
  {
   "cell_type": "code",
   "execution_count": 18,
   "metadata": {
    "collapsed": true
   },
   "outputs": [],
   "source": [
    "stock_data_norm.index = pd.to_datetime(stock_data_norm.index)"
   ]
  },
  {
   "cell_type": "code",
   "execution_count": 19,
   "metadata": {
    "collapsed": true
   },
   "outputs": [],
   "source": [
    "def split_test_data(df,time_frame,train_ratio=0.9):\n",
    "    number_features = len(df.columns)\n",
    "    \n",
    "    datavalue = df.as_matrix()\n",
    "    \n",
    "    result=[]\n",
    "    \n",
    "    for index in range(len(datavalue) - (time_frame+1) ):\n",
    "        result.append(datavalue[index: index + (time_frame+1)])\n",
    "    \n",
    "    result = np.array(result)\n",
    "    number_train = round(train_ratio * result.shape[0])\n",
    "    \n",
    "    x_train = result[:int(number_train),:-1]\n",
    "    y_train = result[:int(number_train),-1][:,-1]\n",
    "    \n",
    "    x_test = result[int(number_train):,:-1]\n",
    "    y_test = result[int(number_train):,-1][:,-1]\n",
    "    \n",
    "    x_train = np.reshape(x_train,(x_train.shape[0],x_train.shape[1],number_features))\n",
    "    x_test = np.reshape(x_test,(x_test.shape[0],x_test.shape[1],number_features))\n",
    "    \n",
    "    return [x_train, y_train, x_test, y_test]"
   ]
  },
  {
   "cell_type": "code",
   "execution_count": 20,
   "metadata": {
    "collapsed": true
   },
   "outputs": [],
   "source": [
    "X_train, y_train, X_test, y_test = split_test_data(stock_data_norm, 20)"
   ]
  },
  {
   "cell_type": "code",
   "execution_count": 21,
   "metadata": {
    "collapsed": false
   },
   "outputs": [
    {
     "name": "stderr",
     "output_type": "stream",
     "text": [
      "/Library/Frameworks/Python.framework/Versions/3.6/lib/python3.6/site-packages/h5py/__init__.py:36: FutureWarning: Conversion of the second argument of issubdtype from `float` to `np.floating` is deprecated. In future, it will be treated as `np.float64 == np.dtype(float).type`.\n",
      "  from ._conv import register_converters as _register_converters\n",
      "Using TensorFlow backend.\n"
     ]
    }
   ],
   "source": [
    "from keras.models import Sequential\n",
    "from keras.layers.core import Dense, Dropout, Activation\n",
    "from keras.layers.recurrent import LSTM\n",
    "import keras"
   ]
  },
  {
   "cell_type": "code",
   "execution_count": 22,
   "metadata": {
    "collapsed": true
   },
   "outputs": [],
   "source": [
    "def build_model(input_length, input_dim):\n",
    "    d = 0.3\n",
    "    model = Sequential()\n",
    "    model.add(LSTM(256, input_shape=(input_length, input_dim), return_sequences=True))\n",
    "    model.add(Dropout(d))\n",
    "    model.add(LSTM(256, input_shape=(input_length, input_dim), return_sequences=False))\n",
    "    model.add(Dropout(d))\n",
    "    model.add(Dense(16,kernel_initializer=\"uniform\",activation='relu'))\n",
    "    model.add(Dense(1,kernel_initializer=\"uniform\",activation='linear'))\n",
    "    model.compile(loss='mse',optimizer='adam', metrics=['accuracy'])\n",
    "    return model\n",
    "model = build_model( 20, 5 )"
   ]
  },
  {
   "cell_type": "code",
   "execution_count": 23,
   "metadata": {
    "collapsed": false
   },
   "outputs": [
    {
     "name": "stdout",
     "output_type": "stream",
     "text": [
      "Train on 44 samples, validate on 5 samples\n",
      "Epoch 1/50\n",
      "44/44 [==============================] - 1s 28ms/step - loss: 0.3762 - acc: 0.0000e+00 - val_loss: 0.1230 - val_acc: 0.0000e+00\n",
      "Epoch 2/50\n",
      "44/44 [==============================] - 0s 3ms/step - loss: 0.3665 - acc: 0.0000e+00 - val_loss: 0.1160 - val_acc: 0.0000e+00\n",
      "Epoch 3/50\n",
      "44/44 [==============================] - 0s 4ms/step - loss: 0.3519 - acc: 0.0000e+00 - val_loss: 0.1041 - val_acc: 0.0000e+00\n",
      "Epoch 4/50\n",
      "44/44 [==============================] - 0s 3ms/step - loss: 0.3263 - acc: 0.0000e+00 - val_loss: 0.0807 - val_acc: 0.0000e+00\n",
      "Epoch 5/50\n",
      "44/44 [==============================] - 0s 3ms/step - loss: 0.2812 - acc: 0.0000e+00 - val_loss: 0.0427 - val_acc: 0.0000e+00\n",
      "Epoch 6/50\n",
      "44/44 [==============================] - 0s 3ms/step - loss: 0.2053 - acc: 0.0000e+00 - val_loss: 0.0110 - val_acc: 0.0000e+00\n",
      "Epoch 7/50\n",
      "44/44 [==============================] - 0s 3ms/step - loss: 0.1254 - acc: 0.0000e+00 - val_loss: 0.0048 - val_acc: 0.0000e+00\n",
      "Epoch 8/50\n",
      "44/44 [==============================] - 0s 3ms/step - loss: 0.0714 - acc: 0.0000e+00 - val_loss: 0.0195 - val_acc: 0.0000e+00\n",
      "Epoch 9/50\n",
      "44/44 [==============================] - 0s 3ms/step - loss: 0.0361 - acc: 0.0000e+00 - val_loss: 0.0581 - val_acc: 0.0000e+00\n",
      "Epoch 10/50\n",
      "44/44 [==============================] - 0s 8ms/step - loss: 0.0234 - acc: 0.0000e+00 - val_loss: 0.1161 - val_acc: 0.0000e+00\n",
      "Epoch 11/50\n",
      "44/44 [==============================] - 0s 6ms/step - loss: 0.0323 - acc: 0.0000e+00 - val_loss: 0.1538 - val_acc: 0.0000e+00\n",
      "Epoch 12/50\n",
      "44/44 [==============================] - 0s 7ms/step - loss: 0.0459 - acc: 0.0000e+00 - val_loss: 0.1594 - val_acc: 0.0000e+00\n",
      "Epoch 13/50\n",
      "44/44 [==============================] - 0s 8ms/step - loss: 0.0452 - acc: 0.0000e+00 - val_loss: 0.1426 - val_acc: 0.0000e+00\n",
      "Epoch 14/50\n",
      "44/44 [==============================] - 0s 5ms/step - loss: 0.0414 - acc: 0.0000e+00 - val_loss: 0.1158 - val_acc: 0.0000e+00\n",
      "Epoch 15/50\n",
      "44/44 [==============================] - 0s 3ms/step - loss: 0.0297 - acc: 0.0000e+00 - val_loss: 0.0882 - val_acc: 0.0000e+00\n",
      "Epoch 16/50\n",
      "44/44 [==============================] - 0s 3ms/step - loss: 0.0248 - acc: 0.0000e+00 - val_loss: 0.0654 - val_acc: 0.0000e+00\n",
      "Epoch 17/50\n",
      "44/44 [==============================] - 0s 4ms/step - loss: 0.0249 - acc: 0.0000e+00 - val_loss: 0.0488 - val_acc: 0.0000e+00\n",
      "Epoch 18/50\n",
      "44/44 [==============================] - 0s 5ms/step - loss: 0.0241 - acc: 0.0000e+00 - val_loss: 0.0378 - val_acc: 0.0000e+00\n",
      "Epoch 19/50\n",
      "44/44 [==============================] - 0s 3ms/step - loss: 0.0245 - acc: 0.0000e+00 - val_loss: 0.0315 - val_acc: 0.0000e+00\n",
      "Epoch 20/50\n",
      "44/44 [==============================] - 0s 3ms/step - loss: 0.0321 - acc: 0.0000e+00 - val_loss: 0.0288 - val_acc: 0.0000e+00\n",
      "Epoch 21/50\n",
      "44/44 [==============================] - 0s 3ms/step - loss: 0.0346 - acc: 0.0000e+00 - val_loss: 0.0288 - val_acc: 0.0000e+00\n",
      "Epoch 22/50\n",
      "44/44 [==============================] - 0s 3ms/step - loss: 0.0317 - acc: 0.0000e+00 - val_loss: 0.0311 - val_acc: 0.0000e+00\n",
      "Epoch 23/50\n",
      "44/44 [==============================] - 0s 3ms/step - loss: 0.0311 - acc: 0.0000e+00 - val_loss: 0.0354 - val_acc: 0.0000e+00\n",
      "Epoch 24/50\n",
      "44/44 [==============================] - 0s 3ms/step - loss: 0.0285 - acc: 0.0000e+00 - val_loss: 0.0416 - val_acc: 0.0000e+00\n",
      "Epoch 25/50\n",
      "44/44 [==============================] - 0s 3ms/step - loss: 0.0254 - acc: 0.0000e+00 - val_loss: 0.0497 - val_acc: 0.0000e+00\n",
      "Epoch 26/50\n",
      "44/44 [==============================] - 0s 3ms/step - loss: 0.0262 - acc: 0.0000e+00 - val_loss: 0.0589 - val_acc: 0.0000e+00\n",
      "Epoch 27/50\n",
      "44/44 [==============================] - 0s 3ms/step - loss: 0.0255 - acc: 0.0000e+00 - val_loss: 0.0688 - val_acc: 0.0000e+00\n",
      "Epoch 28/50\n",
      "44/44 [==============================] - 0s 3ms/step - loss: 0.0227 - acc: 0.0000e+00 - val_loss: 0.0781 - val_acc: 0.0000e+00\n",
      "Epoch 29/50\n",
      "44/44 [==============================] - 0s 3ms/step - loss: 0.0243 - acc: 0.0000e+00 - val_loss: 0.0849 - val_acc: 0.0000e+00\n",
      "Epoch 30/50\n",
      "44/44 [==============================] - 0s 3ms/step - loss: 0.0244 - acc: 0.0000e+00 - val_loss: 0.0886 - val_acc: 0.0000e+00\n",
      "Epoch 31/50\n",
      "44/44 [==============================] - 0s 3ms/step - loss: 0.0274 - acc: 0.0000e+00 - val_loss: 0.0888 - val_acc: 0.0000e+00\n",
      "Epoch 32/50\n",
      "44/44 [==============================] - 0s 3ms/step - loss: 0.0282 - acc: 0.0000e+00 - val_loss: 0.0853 - val_acc: 0.0000e+00\n",
      "Epoch 33/50\n",
      "44/44 [==============================] - 0s 3ms/step - loss: 0.0236 - acc: 0.0000e+00 - val_loss: 0.0804 - val_acc: 0.0000e+00\n",
      "Epoch 34/50\n",
      "44/44 [==============================] - 0s 3ms/step - loss: 0.0247 - acc: 0.0000e+00 - val_loss: 0.0743 - val_acc: 0.0000e+00\n",
      "Epoch 35/50\n",
      "44/44 [==============================] - 0s 3ms/step - loss: 0.0256 - acc: 0.0000e+00 - val_loss: 0.0677 - val_acc: 0.0000e+00\n",
      "Epoch 36/50\n",
      "44/44 [==============================] - 0s 4ms/step - loss: 0.0215 - acc: 0.0000e+00 - val_loss: 0.0614 - val_acc: 0.0000e+00\n",
      "Epoch 37/50\n",
      "44/44 [==============================] - 0s 4ms/step - loss: 0.0266 - acc: 0.0000e+00 - val_loss: 0.0559 - val_acc: 0.0000e+00\n",
      "Epoch 38/50\n",
      "44/44 [==============================] - 0s 3ms/step - loss: 0.0246 - acc: 0.0000e+00 - val_loss: 0.0519 - val_acc: 0.0000e+00\n",
      "Epoch 39/50\n",
      "44/44 [==============================] - 0s 4ms/step - loss: 0.0236 - acc: 0.0000e+00 - val_loss: 0.0494 - val_acc: 0.0000e+00\n",
      "Epoch 40/50\n",
      "44/44 [==============================] - 0s 5ms/step - loss: 0.0240 - acc: 0.0000e+00 - val_loss: 0.0489 - val_acc: 0.0000e+00\n",
      "Epoch 41/50\n",
      "44/44 [==============================] - 0s 4ms/step - loss: 0.0250 - acc: 0.0000e+00 - val_loss: 0.0495 - val_acc: 0.0000e+00\n",
      "Epoch 42/50\n",
      "44/44 [==============================] - 0s 4ms/step - loss: 0.0223 - acc: 0.0000e+00 - val_loss: 0.0514 - val_acc: 0.0000e+00\n",
      "Epoch 43/50\n",
      "44/44 [==============================] - 0s 3ms/step - loss: 0.0248 - acc: 0.0000e+00 - val_loss: 0.0543 - val_acc: 0.0000e+00\n",
      "Epoch 44/50\n",
      "44/44 [==============================] - 0s 7ms/step - loss: 0.0248 - acc: 0.0000e+00 - val_loss: 0.0577 - val_acc: 0.0000e+00\n",
      "Epoch 45/50\n",
      "44/44 [==============================] - 0s 7ms/step - loss: 0.0242 - acc: 0.0000e+00 - val_loss: 0.0615 - val_acc: 0.0000e+00\n",
      "Epoch 46/50\n",
      "44/44 [==============================] - 0s 4ms/step - loss: 0.0218 - acc: 0.0000e+00 - val_loss: 0.0651 - val_acc: 0.0000e+00\n",
      "Epoch 47/50\n",
      "44/44 [==============================] - 0s 5ms/step - loss: 0.0239 - acc: 0.0000e+00 - val_loss: 0.0684 - val_acc: 0.0000e+00\n",
      "Epoch 48/50\n",
      "44/44 [==============================] - 0s 5ms/step - loss: 0.0225 - acc: 0.0000e+00 - val_loss: 0.0710 - val_acc: 0.0000e+00\n",
      "Epoch 49/50\n",
      "44/44 [==============================] - 0s 4ms/step - loss: 0.0244 - acc: 0.0000e+00 - val_loss: 0.0723 - val_acc: 0.0000e+00\n",
      "Epoch 50/50\n",
      "44/44 [==============================] - 0s 3ms/step - loss: 0.0255 - acc: 0.0000e+00 - val_loss: 0.0722 - val_acc: 0.0000e+00\n"
     ]
    },
    {
     "data": {
      "text/plain": [
       "<keras.callbacks.History at 0x11bf4dcf8>"
      ]
     },
     "execution_count": 23,
     "metadata": {},
     "output_type": "execute_result"
    }
   ],
   "source": [
    "\n",
    "# 一個batch有128個instance，總共跑50個迭代\n",
    "model.fit( X_train, y_train, batch_size=128, epochs=50, validation_split=0.1, verbose=1)"
   ]
  },
  {
   "cell_type": "code",
   "execution_count": 24,
   "metadata": {
    "collapsed": true
   },
   "outputs": [],
   "source": [
    "def denormalize(df, norm_value):\n",
    "    original_value = df['close'].values.reshape(-1,1)\n",
    "    norm_value = norm_value.reshape(-1,1)\n",
    "    \n",
    "    min_max_scaler = preprocessing.MinMaxScaler()\n",
    "    min_max_scaler.fit_transform(original_value)\n",
    "    denorm_value = min_max_scaler.inverse_transform(norm_value)\n",
    "    \n",
    "    return denorm_value\n",
    "# 用訓練好的 LSTM 模型對測試資料集進行預測\n",
    "pred = model.predict(X_test)\n",
    "# 將預測值與正確答案還原回原來的區間值\n",
    "denorm_pred = denormalize(stock_data_df, pred)\n",
    "denorm_ytest = denormalize(stock_data_df, y_test)\n"
   ]
  },
  {
   "cell_type": "code",
   "execution_count": 25,
   "metadata": {
    "collapsed": false
   },
   "outputs": [
    {
     "data": {
      "image/png": "[encoded data removed]",
      "text/plain": [
       "<matplotlib.figure.Figure at 0x11c568d30>"
      ]
     },
     "metadata": {},
     "output_type": "display_data"
    }
   ],
   "source": [
    "import matplotlib.pyplot as plt\n",
    "%matplotlib inline  \n",
    "plt.plot(denorm_pred,color='red', label='Prediction')\n",
    "plt.plot(denorm_ytest,color='blue', label='Answer')\n",
    "plt.legend(loc='best')\n",
    "plt.show()"
   ]
  },
  {
   "cell_type": "code",
   "execution_count": 26,
   "metadata": {
    "collapsed": false
   },
   "outputs": [
    {
     "data": {
      "text/plain": [
       "array([[90.469315],\n",
       "       [90.467926],\n",
       "       [90.46718 ],\n",
       "       [90.46469 ],\n",
       "       [90.462006]], dtype=float32)"
      ]
     },
     "execution_count": 26,
     "metadata": {},
     "output_type": "execute_result"
    }
   ],
   "source": [
    "denorm_pred"
   ]
  },
  {
   "cell_type": "code",
   "execution_count": null,
   "metadata": {
    "collapsed": true
   },
   "outputs": [],
   "source": [
    "denorm_ytest"
   ]
  },
  {
   "cell_type": "code",
   "execution_count": null,
   "metadata": {
    "collapsed": true
   },
   "outputs": [],
   "source": []
  }
 ],
 "metadata": {
  "anaconda-cloud": {},
  "kernelspec": {
   "display_name": "Python [Root]",
   "language": "python",
   "name": "Python [Root]"
  },
  "language_info": {
   "codemirror_mode": {
    "name": "ipython",
    "version": 3
   },
   "file_extension": ".py",
   "mimetype": "text/x-python",
   "name": "python",
   "nbconvert_exporter": "python",
   "pygments_lexer": "ipython3",
   "version": "3.5.1"
  }
 },
 "nbformat": 4,
 "nbformat_minor": 2
}
